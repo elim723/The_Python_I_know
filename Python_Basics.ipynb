{
 "cells": [
  {
   "cell_type": "markdown",
   "metadata": {},
   "source": [
    "# Basic Python for Python-lovers :)\n",
    "I made a little note book to document the python tricks I know. Even if you don't have python3 installed in your laptop, try https://cocalc.com/. Create an account and upload this .ipynb file. And you can try things out yourself. I have tried it out myself, and I can come over and help you set up if needed.\n",
    "\n",
    "This Basics go through the followings:\n",
    "\n",
    "A. Numerical Values\n",
    "\n",
    "B. Data Structures\n",
    "\n",
    "C. For Loops\n",
    "\n",
    "D. While Loops\n",
    "\n",
    "E. If-Elif-Else Statements\n",
    "\n",
    "For the next notebook, I will go through some built-in python functions and modules that are useful for day-to-day python users."
   ]
  },
  {
   "cell_type": "markdown",
   "metadata": {},
   "source": [
    "## A. Numerical Values\n",
    "In python, the main data types are integer, float, and character. \n",
    "### 1. Integers and Float\n",
    "* `float()` changes argument to float. Similar functions are `int()` and `str()`."
   ]
  },
  {
   "cell_type": "code",
   "execution_count": 9,
   "metadata": {},
   "outputs": [
    {
     "name": "stdout",
     "output_type": "stream",
     "text": [
      "[Out] a is 10; type is <class 'int'>.\n",
      "[Out] a is 10.0; type is <class 'float'>.\n",
      "[Out] a is 10; type is <class 'str'>.\n"
     ]
    }
   ],
   "source": [
    "a_number = 10 \n",
    "print ('[Out] a is {0}; type is {1}.'.format (a_number, type (a_number)))\n",
    "a_number = float (10) \n",
    "print ('[Out] a is {0}; type is {1}.'.format (a_number, type (a_number)))\n",
    "a_number = str (10) \n",
    "print ('[Out] a is {0}; type is {1}.'.format (a_number, type (a_number)))"
   ]
  },
  {
   "cell_type": "markdown",
   "metadata": {},
   "source": [
    "* Having a dot after an integer changes its type from int to float"
   ]
  },
  {
   "cell_type": "code",
   "execution_count": 10,
   "metadata": {},
   "outputs": [
    {
     "name": "stdout",
     "output_type": "stream",
     "text": [
      "[Out] a is 10.0; type is <class 'float'>.\n"
     ]
    }
   ],
   "source": [
    "a_number = 10.0\n",
    "print ('[Out] a is {0}; type is {1}.'.format (a_number, type (a_number)))"
   ]
  },
  {
   "cell_type": "markdown",
   "metadata": {},
   "source": [
    "### 2. Declare multiple values\n",
    "* In python, comma makes sense!"
   ]
  },
  {
   "cell_type": "code",
   "execution_count": 11,
   "metadata": {},
   "outputs": [
    {
     "name": "stdout",
     "output_type": "stream",
     "text": [
      "[Out] a is 1.\n",
      "[Out] b is 2.23.\n"
     ]
    }
   ],
   "source": [
    "a, b = 1, 2.23\n",
    "print ('[Out] a is {0}.'.format (a))\n",
    "print ('[Out] b is {0}.'.format (b))"
   ]
  },
  {
   "cell_type": "markdown",
   "metadata": {},
   "source": [
    "* Comma works the same for strings or any combo."
   ]
  },
  {
   "cell_type": "code",
   "execution_count": 12,
   "metadata": {},
   "outputs": [
    {
     "name": "stdout",
     "output_type": "stream",
     "text": [
      "[Out] a is 10.0; type is <class 'float'>.\n",
      "[Out] b is hey; type is <class 'str'>.\n"
     ]
    }
   ],
   "source": [
    "a, b = 10., 'hey'\n",
    "print ('[Out] a is {0}; type is {1}.'.format (a, type (a)))\n",
    "print ('[Out] b is {0}; type is {1}.'.format (b, type (b)))"
   ]
  },
  {
   "cell_type": "markdown",
   "metadata": {},
   "source": [
    "### 3. Calculation\n",
    "* Using `+` for addition, `-` for subtraction, `*` for multiplication, and `/` for division."
   ]
  },
  {
   "cell_type": "code",
   "execution_count": 13,
   "metadata": {},
   "outputs": [
    {
     "name": "stdout",
     "output_type": "stream",
     "text": [
      "[Out] value from \"+\" is 1.\n"
     ]
    }
   ],
   "source": [
    "value = 0\n",
    "value = value + 1\n",
    "print ('[Out] value from \"+\" is {0}.'.format (value))"
   ]
  },
  {
   "cell_type": "markdown",
   "metadata": {},
   "source": [
    "* Using `+=` for accumulative addition. Same with `-=`, `*=`, and `/=` for accumulative subtraction, multiplication, and division."
   ]
  },
  {
   "cell_type": "code",
   "execution_count": 14,
   "metadata": {},
   "outputs": [
    {
     "name": "stdout",
     "output_type": "stream",
     "text": [
      "[Out] value from \"+=\" is 2.\n"
     ]
    }
   ],
   "source": [
    "value += 1\n",
    "print ('[Out] value from \"+=\" is {0}.'.format (value))"
   ]
  },
  {
   "cell_type": "markdown",
   "metadata": {},
   "source": [
    "* Denominator in division is automatically converted in python3. In python 2, a `float()` function is required to get the same result. Otherwise, the result is the floor of the result."
   ]
  },
  {
   "cell_type": "code",
   "execution_count": 15,
   "metadata": {},
   "outputs": [
    {
     "name": "stdout",
     "output_type": "stream",
     "text": [
      "[Out] value is 4.6; type is <class 'float'>.\n"
     ]
    }
   ],
   "source": [
    "value = 23 / 5\n",
    "print ('[Out] value is {0}; type is {1}.'.format (value, type (value)))"
   ]
  },
  {
   "cell_type": "markdown",
   "metadata": {},
   "source": [
    "## B. Data Structures\n",
    "There are four built-in data structures in python: list, set, strings, and dictionary. They are different from data types in a sense that data structure consists of a collection of data types."
   ]
  },
  {
   "cell_type": "markdown",
   "metadata": {},
   "source": [
    "### 1. List\n",
    "* A list is declared using `[]`. "
   ]
  },
  {
   "cell_type": "code",
   "execution_count": 16,
   "metadata": {},
   "outputs": [
    {
     "name": "stdout",
     "output_type": "stream",
     "text": [
      "[Out] empty_list is [].\n",
      "[Out] empty_list has a length of 0.\n",
      "[Out] empty_list is a type of <class 'list'>.\n"
     ]
    }
   ],
   "source": [
    "# declare an empty list.\n",
    "empty_list = []\n",
    "print ('[Out] empty_list is {0}.'.format (empty_list))\n",
    "empty_list_length = len (empty_list)\n",
    "print ('[Out] empty_list has a length of {0}.'.format (empty_list_length))\n",
    "empty_list_type = type (empty_list)\n",
    "print ('[Out] empty_list is a type of {0}.'.format (empty_list_type))"
   ]
  },
  {
   "cell_type": "code",
   "execution_count": 17,
   "metadata": {},
   "outputs": [
    {
     "name": "stdout",
     "output_type": "stream",
     "text": [
      "[Out] a_list is [1, 2, 3] with a length of 3.\n"
     ]
    }
   ],
   "source": [
    "# declare a non-empty list.\n",
    "a_list = [1, 2, 3]\n",
    "a_list_length = len (a_list)\n",
    "print ('[Out] a_list is {0} with a length of {1}.'.format (a_list, a_list_length))"
   ]
  },
  {
   "cell_type": "markdown",
   "metadata": {},
   "source": [
    "* A list can be a combo of different data types."
   ]
  },
  {
   "cell_type": "code",
   "execution_count": 18,
   "metadata": {},
   "outputs": [
    {
     "name": "stdout",
     "output_type": "stream",
     "text": [
      "[Out] a_list is [1, 'a', 5.3]; type is <class 'list'>.\n"
     ]
    }
   ],
   "source": [
    "a_list = [1, 'a', 5.3]\n",
    "print ('[Out] a_list is {0}; type is {1}.'.format (a_list, type (a_list)))"
   ]
  },
  {
   "cell_type": "markdown",
   "metadata": {},
   "source": [
    "* A list is mutable, meaning it can be changed over and over again."
   ]
  },
  {
   "cell_type": "code",
   "execution_count": 19,
   "metadata": {},
   "outputs": [
    {
     "name": "stdout",
     "output_type": "stream",
     "text": [
      "[Out] Initial a_list is [1, 2, 3].\n",
      "[Out] After changing second element, a_list is [1, 4, 3].\n",
      "[Out] After adding a new element, a_list is [1, 4, 3, 5].\n",
      "[Out] After removing the first element, a_list is [4, 3, 5].\n",
      "[Out] After reversing the list, a_list is [5, 3, 4].\n",
      "[Out] After extending another list, a_list is [5, 3, 4, 6, 7].\n",
      "[Out] After deleting third to forth elements, a_list is [5, 3, 7].\n"
     ]
    }
   ],
   "source": [
    "# initialize a list\n",
    "a_list = [1, 2, 3]\n",
    "print ('[Out] Initial a_list is {0}.'.format (a_list))\n",
    "# change the second element\n",
    "a_list[1] = 4\n",
    "print ('[Out] After changing second element, a_list is {0}.'.format (a_list)) \n",
    "# add new element\n",
    "a_list.append (5)\n",
    "print ('[Out] After adding a new element, a_list is {0}.'.format (a_list)) \n",
    "# remove the first element\n",
    "a_list.remove (a_list[0])\n",
    "print ('[Out] After removing the first element, a_list is {0}.'.format (a_list)) \n",
    "# reverse the list\n",
    "a_list.reverse ()\n",
    "print ('[Out] After reversing the list, a_list is {0}.'.format (a_list)) \n",
    "# extend several elements\n",
    "a_list.extend ([6, 7])\n",
    "print ('[Out] After extending another list, a_list is {0}.'.format (a_list)) \n",
    "# delete elements between the third and forth elements\n",
    "del a_list[2:4]\n",
    "print ('[Out] After deleting third to forth elements, a_list is {0}.'.format (a_list)) "
   ]
  },
  {
   "cell_type": "markdown",
   "metadata": {},
   "source": [
    "* One of my favorite Python trick is list comprehension. It is convenient when using with a for-loop, and we will come back to it when we go through for-loop."
   ]
  },
  {
   "cell_type": "code",
   "execution_count": 20,
   "metadata": {},
   "outputs": [
    {
     "name": "stdout",
     "output_type": "stream",
     "text": [
      "[Out] a_list is [1, 2, 3].\n",
      "[Out] Square of a_list is [1, 4, 9].\n"
     ]
    }
   ],
   "source": [
    "a_list = [1, 2, 3]\n",
    "print ('[Out] a_list is {0}.'.format (a_list)) \n",
    "a_list_squared = [x**2 for x in a_list]\n",
    "print ('[Out] Square of a_list is {0}.'.format (a_list_squared)) "
   ]
  },
  {
   "cell_type": "markdown",
   "metadata": {},
   "source": [
    "### 2. Set\n",
    "* A set is declared via (). It is a type of tuple instead of list."
   ]
  },
  {
   "cell_type": "code",
   "execution_count": 21,
   "metadata": {},
   "outputs": [
    {
     "name": "stdout",
     "output_type": "stream",
     "text": [
      "[Out] empty_set is ().\n",
      "[Out] empty_set has a length of 0.\n",
      "[Out] empty_set is a type of <class 'tuple'>.\n"
     ]
    }
   ],
   "source": [
    "# declare an empty set.\n",
    "empty_set = ()\n",
    "print ('[Out] empty_set is {0}.'.format (empty_set))\n",
    "empty_set_length = len (empty_set)\n",
    "print ('[Out] empty_set has a length of {0}.'.format (empty_set_length))\n",
    "empty_set_type = type (empty_set)\n",
    "print ('[Out] empty_set is a type of {0}.'.format (empty_set_type))"
   ]
  },
  {
   "cell_type": "code",
   "execution_count": 22,
   "metadata": {},
   "outputs": [
    {
     "name": "stdout",
     "output_type": "stream",
     "text": [
      "[Out] a_set is (1, 2, 3) with a length of 3.\n"
     ]
    }
   ],
   "source": [
    "# declare a non-empty set.\n",
    "a_set = (1, 2, 3)\n",
    "a_set_length = len (a_set)\n",
    "print ('[Out] a_set is {0} with a length of {1}.'.format (a_set, a_set_length))"
   ]
  },
  {
   "cell_type": "markdown",
   "metadata": {},
   "source": [
    "* A set can also be a combo of different data types."
   ]
  },
  {
   "cell_type": "code",
   "execution_count": 23,
   "metadata": {},
   "outputs": [
    {
     "name": "stdout",
     "output_type": "stream",
     "text": [
      "[Out] a_set is (1, 'a', 5.3); type is <class 'tuple'>.\n"
     ]
    }
   ],
   "source": [
    "a_set = (1, 'a', 5.3)\n",
    "print ('[Out] a_set is {0}; type is {1}.'.format (a_set, type (a_set)))"
   ]
  },
  {
   "cell_type": "markdown",
   "metadata": {},
   "source": [
    "* BUT ! A set is immutable, meaning it canNOT be changed over and over again. If you attempt to change an element or append or remove or reverse or perform any changes to a set, a TypeError will be raised saying `TypeError: 'tuple' object does not support item assignment`."
   ]
  },
  {
   "cell_type": "code",
   "execution_count": 24,
   "metadata": {},
   "outputs": [
    {
     "ename": "TypeError",
     "evalue": "'tuple' object does not support item assignment",
     "output_type": "error",
     "traceback": [
      "\u001b[0;31m---------------------------------------------------------------------------\u001b[0m",
      "\u001b[0;31mTypeError\u001b[0m                                 Traceback (most recent call last)",
      "\u001b[0;32m<ipython-input-24-d2304eef9c35>\u001b[0m in \u001b[0;36m<module>\u001b[0;34m()\u001b[0m\n\u001b[1;32m      2\u001b[0m \u001b[0ma_set\u001b[0m \u001b[0;34m=\u001b[0m \u001b[0;34m(\u001b[0m\u001b[0;36m1\u001b[0m\u001b[0;34m,\u001b[0m \u001b[0;36m2\u001b[0m\u001b[0;34m,\u001b[0m \u001b[0;36m3\u001b[0m\u001b[0;34m)\u001b[0m\u001b[0;34m\u001b[0m\u001b[0;34m\u001b[0m\u001b[0m\n\u001b[1;32m      3\u001b[0m \u001b[0;31m# change the second element\u001b[0m\u001b[0;34m\u001b[0m\u001b[0;34m\u001b[0m\u001b[0;34m\u001b[0m\u001b[0m\n\u001b[0;32m----> 4\u001b[0;31m \u001b[0ma_set\u001b[0m\u001b[0;34m[\u001b[0m\u001b[0;36m1\u001b[0m\u001b[0;34m]\u001b[0m \u001b[0;34m=\u001b[0m \u001b[0;36m4\u001b[0m\u001b[0;34m\u001b[0m\u001b[0;34m\u001b[0m\u001b[0m\n\u001b[0m\u001b[1;32m      5\u001b[0m \u001b[0;31m# add new element\u001b[0m\u001b[0;34m\u001b[0m\u001b[0;34m\u001b[0m\u001b[0;34m\u001b[0m\u001b[0m\n\u001b[1;32m      6\u001b[0m \u001b[0ma_set\u001b[0m\u001b[0;34m.\u001b[0m\u001b[0mappend\u001b[0m \u001b[0;34m(\u001b[0m\u001b[0;36m5\u001b[0m\u001b[0;34m)\u001b[0m\u001b[0;34m\u001b[0m\u001b[0;34m\u001b[0m\u001b[0m\n",
      "\u001b[0;31mTypeError\u001b[0m: 'tuple' object does not support item assignment"
     ]
    }
   ],
   "source": [
    "# initialize a set\n",
    "a_set = (1, 2, 3)\n",
    "# change the second element\n",
    "a_set[1] = 4\n",
    "# add new element\n",
    "a_set.append (5)\n",
    "# remove the first element\n",
    "a_set.remove (a_list[0])\n",
    "# reverse the list\n",
    "a_set.reverse ()"
   ]
  },
  {
   "cell_type": "markdown",
   "metadata": {},
   "source": [
    "* So, why `Set()` if it cannot be changed? It is exactly why a set is needed. There are times when you do not want users to change its values. Examples are IP addresses and shapes of histograms or arrays."
   ]
  },
  {
   "cell_type": "markdown",
   "metadata": {},
   "source": [
    "### 3. Strings\n",
    "* In python, single qoute is the same as double quote."
   ]
  },
  {
   "cell_type": "code",
   "execution_count": 25,
   "metadata": {},
   "outputs": [
    {
     "name": "stdout",
     "output_type": "stream",
     "text": [
      "[Out] Is single quote the same as double quote ? True\n"
     ]
    }
   ],
   "source": [
    "single_quote = 'Hello World !'\n",
    "double_quote = \"Hello World !\"\n",
    "is_same = single_quote == double_quote\n",
    "print ('[Out] Is single quote the same as double quote ? {0}'.format (is_same))"
   ]
  },
  {
   "cell_type": "markdown",
   "metadata": {},
   "source": [
    "* Block string is especially useful for documenting functions and classes. Documentation tools such as Oxygen recognizes ''' to convert python codes into standard webpage-style manuals."
   ]
  },
  {
   "cell_type": "code",
   "execution_count": 26,
   "metadata": {},
   "outputs": [],
   "source": [
    "def some_function (a, b):\n",
    "    \n",
    "    ''' Here is a block string for comments.\n",
    "        \n",
    "        input params\n",
    "        ------------\n",
    "        a (float): explain a\n",
    "        b (float): explain b\n",
    "    '''"
   ]
  },
  {
   "cell_type": "markdown",
   "metadata": {},
   "source": [
    "* Stitch strings together via `+`. `-`, `*`, or `/` operations do not work on strings."
   ]
  },
  {
   "cell_type": "code",
   "execution_count": 27,
   "metadata": {},
   "outputs": [
    {
     "name": "stdout",
     "output_type": "stream",
     "text": [
      "[Out] hello_world is \"Hello World!\"\n"
     ]
    }
   ],
   "source": [
    "hello = 'Hello'\n",
    "world = 'World'\n",
    "hello_world = hello + ' ' + world + '!'\n",
    "print ('[Out] hello_world is \"{0}\"'.format (hello_world))"
   ]
  },
  {
   "cell_type": "markdown",
   "metadata": {},
   "source": [
    "* One of best changes from python 2 to 3 is the print function. If you are using python 2, you can import print function from the future by adding the import statement `from __future__ import print_function` at the beginning of the python 2 script."
   ]
  },
  {
   "cell_type": "code",
   "execution_count": 28,
   "metadata": {},
   "outputs": [
    {
     "name": "stdout",
     "output_type": "stream",
     "text": [
      "[Out] A. I am Elim.\n",
      "[Out] B. I am 30 years old.\n",
      "[Out] C. I am 1.63 meters tall.\n",
      "[Out] D. I love programming and travelling, mostly programming.\n"
     ]
    }
   ],
   "source": [
    "# A. print a string\n",
    "name = 'Elim'\n",
    "print ('[Out] A. I am {0}.'.format (name))\n",
    "# B. print an integer\n",
    "age = 30\n",
    "print ('[Out] B. I am {0} years old.'.format (age))\n",
    "# C. print a rounded float\n",
    "height = 1.6312543\n",
    "print ('[Out] C. I am {0:.2f} meters tall.'.format (height))\n",
    "# D. print multiple variables\n",
    "first_hobby, second_hoppy = 'programming', 'travelling'\n",
    "print ('[Out] D. I love {0} and {1}, mostly {0}.'.format (first_hobby, second_hoppy))"
   ]
  },
  {
   "cell_type": "markdown",
   "metadata": {},
   "source": [
    "* Use `join()` to join a list of charaters. The syntax is `separation.join(list)`, where `separation` is the characters / strings between each element of list."
   ]
  },
  {
   "cell_type": "code",
   "execution_count": 29,
   "metadata": {},
   "outputs": [
    {
     "name": "stdout",
     "output_type": "stream",
     "text": [
      "[Out] A joint list is \"John, Peter, Scott, Will, Larry\".\n"
     ]
    }
   ],
   "source": [
    "# initialize a list of characters\n",
    "a_list = ['John', 'Peter', 'Scott', 'Will', 'Larry']\n",
    "# join them together\n",
    "a_string =  ', '.join (a_list)\n",
    "print ('[Out] A joint list is \"{0}\".'.format (a_string))"
   ]
  },
  {
   "cell_type": "markdown",
   "metadata": {},
   "source": [
    "### 4. Dictionary\n",
    "Finally, it is the dictionary!! I use dictionary all the time, and it is very similar to JSON. \n",
    "* A dictionary is declared via {}. It is a type of dict."
   ]
  },
  {
   "cell_type": "code",
   "execution_count": 30,
   "metadata": {},
   "outputs": [
    {
     "name": "stdout",
     "output_type": "stream",
     "text": [
      "[Out] empty_dict is {}.\n",
      "[Out] empty_dict has a length of 0.\n",
      "[Out] empty_dict is a type of <class 'dict'>.\n"
     ]
    }
   ],
   "source": [
    "# declare an empty dict.\n",
    "empty_dict = {}\n",
    "print ('[Out] empty_dict is {0}.'.format (empty_dict))\n",
    "empty_dict_length = len (empty_dict)\n",
    "print ('[Out] empty_dict has a length of {0}.'.format (empty_dict_length))\n",
    "empty_dict_type = type (empty_dict)\n",
    "print ('[Out] empty_dict is a type of {0}.'.format (empty_dict_type))"
   ]
  },
  {
   "cell_type": "markdown",
   "metadata": {},
   "source": [
    "* A dictioanry consists of keys and values: `{key1:value1, key2:value2, ...}`. Each value is accessible by calling the corresponding key."
   ]
  },
  {
   "cell_type": "code",
   "execution_count": 31,
   "metadata": {},
   "outputs": [
    {
     "name": "stdout",
     "output_type": "stream",
     "text": [
      "[Out] a_dict[\"a\"] = 1\n",
      "[Out] a_dict[\"b\"] = 2\n"
     ]
    }
   ],
   "source": [
    "# declare a non-empty dict\n",
    "a_dict = {'a':1, 'b':2}\n",
    "# access the values via keys\n",
    "print ('[Out] a_dict[\"a\"] = {0}'.format (a_dict['a']))\n",
    "print ('[Out] a_dict[\"b\"] = {0}'.format (a_dict['b']))"
   ]
  },
  {
   "cell_type": "markdown",
   "metadata": {},
   "source": [
    "* A key can be a `str` / `int` / `float` / `set` but not a `list` / `dict`."
   ]
  },
  {
   "cell_type": "code",
   "execution_count": 32,
   "metadata": {},
   "outputs": [
    {
     "name": "stdout",
     "output_type": "stream",
     "text": [
      "[Out] a_dict[1] = 1\n",
      "[Out] a_dict[2.4] = 1\n",
      "[Out] a_dict[\"a\"] = 1\n",
      "[Out] a_dict[(1,2)] = 1\n"
     ]
    }
   ],
   "source": [
    "# A. key can be string / int / float / set\n",
    "a_dict = {1:1, 2.4:1, 'a':1, (1,2):1}\n",
    "print ('[Out] a_dict[1] = {0}'.format (a_dict[1]))\n",
    "print ('[Out] a_dict[2.4] = {0}'.format (a_dict[2.4]))\n",
    "print ('[Out] a_dict[\"a\"] = {0}'.format (a_dict['a']))\n",
    "print ('[Out] a_dict[(1,2)] = {0}'.format (a_dict[(1,2)]))"
   ]
  },
  {
   "cell_type": "code",
   "execution_count": 33,
   "metadata": {},
   "outputs": [
    {
     "ename": "TypeError",
     "evalue": "unhashable type: 'list'",
     "output_type": "error",
     "traceback": [
      "\u001b[0;31m---------------------------------------------------------------------------\u001b[0m",
      "\u001b[0;31mTypeError\u001b[0m                                 Traceback (most recent call last)",
      "\u001b[0;32m<ipython-input-33-cff8fa746cb6>\u001b[0m in \u001b[0;36m<module>\u001b[0;34m()\u001b[0m\n\u001b[1;32m      1\u001b[0m \u001b[0;31m# B. key canNOT be a list because is it mutable.\u001b[0m\u001b[0;34m\u001b[0m\u001b[0;34m\u001b[0m\u001b[0;34m\u001b[0m\u001b[0m\n\u001b[0;32m----> 2\u001b[0;31m \u001b[0ma_dict\u001b[0m \u001b[0;34m=\u001b[0m \u001b[0;34m{\u001b[0m\u001b[0;34m[\u001b[0m\u001b[0;36m1\u001b[0m\u001b[0;34m,\u001b[0m\u001b[0;36m2\u001b[0m\u001b[0;34m]\u001b[0m\u001b[0;34m:\u001b[0m\u001b[0;36m1\u001b[0m\u001b[0;34m}\u001b[0m \u001b[0;31m# this raises a `TypeError: unhashable type: 'list'`\u001b[0m\u001b[0;34m\u001b[0m\u001b[0;34m\u001b[0m\u001b[0m\n\u001b[0m",
      "\u001b[0;31mTypeError\u001b[0m: unhashable type: 'list'"
     ]
    }
   ],
   "source": [
    "# B. key canNOT be a list because is it mutable.\n",
    "a_dict = {[1,2]:1} # this raises a `TypeError: unhashable type: 'list'`"
   ]
  },
  {
   "cell_type": "code",
   "execution_count": 34,
   "metadata": {},
   "outputs": [
    {
     "ename": "TypeError",
     "evalue": "unhashable type: 'dict'",
     "output_type": "error",
     "traceback": [
      "\u001b[0;31m---------------------------------------------------------------------------\u001b[0m",
      "\u001b[0;31mTypeError\u001b[0m                                 Traceback (most recent call last)",
      "\u001b[0;32m<ipython-input-34-19a1f43b6339>\u001b[0m in \u001b[0;36m<module>\u001b[0;34m()\u001b[0m\n\u001b[1;32m      1\u001b[0m \u001b[0;31m# C. key canNOT be a dictionary because it is mutable.\u001b[0m\u001b[0;34m\u001b[0m\u001b[0;34m\u001b[0m\u001b[0;34m\u001b[0m\u001b[0m\n\u001b[0;32m----> 2\u001b[0;31m \u001b[0ma_dict\u001b[0m \u001b[0;34m=\u001b[0m \u001b[0;34m{\u001b[0m\u001b[0;34m{\u001b[0m\u001b[0;36m1\u001b[0m\u001b[0;34m:\u001b[0m\u001b[0;36m1\u001b[0m\u001b[0;34m,\u001b[0m \u001b[0;36m2\u001b[0m\u001b[0;34m:\u001b[0m\u001b[0;36m2\u001b[0m\u001b[0;34m}\u001b[0m\u001b[0;34m:\u001b[0m\u001b[0;36m1\u001b[0m\u001b[0;34m}\u001b[0m \u001b[0;31m# this raises a `TypeError: unhashable type: 'dict'`\u001b[0m\u001b[0;34m\u001b[0m\u001b[0;34m\u001b[0m\u001b[0m\n\u001b[0m",
      "\u001b[0;31mTypeError\u001b[0m: unhashable type: 'dict'"
     ]
    }
   ],
   "source": [
    "# C. key canNOT be a dictionary because it is mutable.\n",
    "a_dict = {{1:1, 2:2}:1} # this raises a `TypeError: unhashable type: 'dict'`"
   ]
  },
  {
   "cell_type": "markdown",
   "metadata": {},
   "source": [
    "* A value, however, can be anything."
   ]
  },
  {
   "cell_type": "markdown",
   "metadata": {},
   "source": [
    "a_dict = {'int':1, 'float':5.23, 'str':'a', 'set':(1,2), 'list':[5,6], 'dict':{1:1,2:2}}\n",
    "print ('[Out] a_dict[\"int\"] = {0}'.format (a_dict['int']))\n",
    "print ('[Out] a_dict[\"float\"] = {0}'.format (a_dict['float']))\n",
    "print ('[Out] a_dict[\"str\"] = {0}'.format (a_dict['str']))\n",
    "print ('[Out] a_dict[\"set\"] = {0}'.format (a_dict['set']))\n",
    "print ('[Out] a_dict[\"list\"] = {0}'.format (a_dict['list']))\n",
    "print ('[Out] a_dict[\"dict\"] = {0}'.format (a_dict['dict']))"
   ]
  },
  {
   "cell_type": "markdown",
   "metadata": {},
   "source": [
    "## For Loops\n",
    "For loops are pretty straight forward.\n",
    "* Simple for-loop to print the square of each element."
   ]
  },
  {
   "cell_type": "code",
   "execution_count": 35,
   "metadata": {},
   "outputs": [
    {
     "name": "stdout",
     "output_type": "stream",
     "text": [
      "x is 1, and x**2 is 1.\n",
      "x is 2, and x**2 is 4.\n",
      "x is 3, and x**2 is 9.\n"
     ]
    }
   ],
   "source": [
    "for x in [1, 2, 3]:\n",
    "    print ('x is {0}, and x**2 is {1}.'.format (x, x**2))"
   ]
  },
  {
   "cell_type": "markdown",
   "metadata": {},
   "source": [
    "* Append during the for-loop."
   ]
  },
  {
   "cell_type": "code",
   "execution_count": 36,
   "metadata": {},
   "outputs": [
    {
     "name": "stdout",
     "output_type": "stream",
     "text": [
      "x_squared is [1, 4, 9].\n"
     ]
    }
   ],
   "source": [
    "# initialize a list to hold the values of x squared \n",
    "x_squared = []\n",
    "# loop throught each element and append the square\n",
    "for x in [1, 2, 3]:\n",
    "    x_squared.append (x**2)\n",
    "print ('x_squared is {0}.'.format (x_squared))"
   ]
  },
  {
   "cell_type": "markdown",
   "metadata": {},
   "source": [
    "* List comprehension instead of a traditional for loop"
   ]
  },
  {
   "cell_type": "code",
   "execution_count": 37,
   "metadata": {},
   "outputs": [
    {
     "name": "stdout",
     "output_type": "stream",
     "text": [
      "x_squared from list comprehension is [1, 4, 9].\n"
     ]
    }
   ],
   "source": [
    "x_squared = [x**2 for x in [1, 2, 3]]\n",
    "print ('x_squared from list comprehension is {0}.'.format (x_squared))"
   ]
  },
  {
   "cell_type": "markdown",
   "metadata": {},
   "source": [
    "### While Loops\n",
    "While loops are also pretty straight forward. The main difference between a for and a while loop is that a for-loop knows when the loop ends, whereas a while-loop ends based on conditions."
   ]
  },
  {
   "cell_type": "markdown",
   "metadata": {},
   "source": [
    "* Simple while loop which ends when x is greater than 100."
   ]
  },
  {
   "cell_type": "code",
   "execution_count": 38,
   "metadata": {},
   "outputs": [
    {
     "name": "stdout",
     "output_type": "stream",
     "text": [
      "Initialize x is 2.\n",
      "Current x is 4.\n",
      "Current x is 8.\n",
      "Current x is 16.\n",
      "Current x is 32.\n",
      "Current x is 64.\n",
      "Current x is 128.\n"
     ]
    }
   ],
   "source": [
    "# start from x = 2\n",
    "x = 2\n",
    "print ('Initialize x is {0}.'.format (x))\n",
    "while x < 100:\n",
    "    x += x # x*2 at each step\n",
    "    print ('Current x is {0}.'.format (x))"
   ]
  },
  {
   "cell_type": "markdown",
   "metadata": {},
   "source": [
    "### If-Elif-Else Statements\n",
    "* A simple `if-else` statement"
   ]
  },
  {
   "cell_type": "code",
   "execution_count": 40,
   "metadata": {},
   "outputs": [
    {
     "name": "stdout",
     "output_type": "stream",
     "text": [
      "x of 7 is greater than 5.\n"
     ]
    }
   ],
   "source": [
    "# set value of x\n",
    "x = 7\n",
    "if x > 5:\n",
    "    print ('x of {0} is greater than 5.'.format (x))\n",
    "else:\n",
    "    print ('x of {0} is less than or equal to 5.'.format (x))"
   ]
  },
  {
   "cell_type": "markdown",
   "metadata": {},
   "source": [
    "* Assign value to y based on `if-else` statement."
   ]
  },
  {
   "cell_type": "code",
   "execution_count": 42,
   "metadata": {},
   "outputs": [
    {
     "name": "stdout",
     "output_type": "stream",
     "text": [
      "y is 2.\n"
     ]
    }
   ],
   "source": [
    "x = 7\n",
    "if x > 5:\n",
    "    y = x - 5\n",
    "else:\n",
    "    y = x + 5\n",
    "print ('y is {0}.'.format (y))"
   ]
  },
  {
   "cell_type": "markdown",
   "metadata": {},
   "source": [
    "* A one-line if-else statement equivalent to the one above."
   ]
  },
  {
   "cell_type": "code",
   "execution_count": 45,
   "metadata": {},
   "outputs": [
    {
     "name": "stdout",
     "output_type": "stream",
     "text": [
      "y from one-line if-else statement is 2.\n"
     ]
    }
   ],
   "source": [
    "x = 7\n",
    "y = x - 5 if x > 5 else x + 5\n",
    "print ('y from one-line if-else statement is {0}.'.format (y))"
   ]
  },
  {
   "cell_type": "markdown",
   "metadata": {},
   "source": [
    "* A simple if-elif-else statement"
   ]
  },
  {
   "cell_type": "code",
   "execution_count": 47,
   "metadata": {},
   "outputs": [
    {
     "name": "stdout",
     "output_type": "stream",
     "text": [
      "x of 7 is greater than 5.\n"
     ]
    }
   ],
   "source": [
    "x = 7\n",
    "if x > 10:\n",
    "    print ('x of {0} is greater than 10.'.format (x))\n",
    "elif x > 5:\n",
    "    print ('x of {0} is greater than 5.'.format (x))\n",
    "else:\n",
    "    print ('x of {0} is less than or equal to 5.'.format (x))"
   ]
  },
  {
   "cell_type": "markdown",
   "metadata": {},
   "source": [
    "* Assign value to y based on `if-elif-else` statement."
   ]
  },
  {
   "cell_type": "code",
   "execution_count": 48,
   "metadata": {},
   "outputs": [
    {
     "name": "stdout",
     "output_type": "stream",
     "text": [
      "y is 2.\n"
     ]
    }
   ],
   "source": [
    "x = 7\n",
    "if x > 10:\n",
    "    y = x - 10\n",
    "elif x > 5:\n",
    "    y = x - 5\n",
    "else:\n",
    "    y = x + 5\n",
    "print ('y is {0}.'.format (y))"
   ]
  },
  {
   "cell_type": "markdown",
   "metadata": {},
   "source": [
    "* A one-line if-elif-else statement equivalent to the one above."
   ]
  },
  {
   "cell_type": "code",
   "execution_count": 51,
   "metadata": {},
   "outputs": [
    {
     "name": "stdout",
     "output_type": "stream",
     "text": [
      "y from one-line if-elif-else statement is 2.\n"
     ]
    }
   ],
   "source": [
    "x = 7\n",
    "y = x - 10 if x > 10 else x - 5 if x > 5 else x + 5\n",
    "print ('y from one-line if-elif-else statement is {0}.'.format (y))"
   ]
  },
  {
   "cell_type": "code",
   "execution_count": null,
   "metadata": {},
   "outputs": [],
   "source": []
  }
 ],
 "metadata": {
  "kernelspec": {
   "display_name": "Python 3",
   "language": "python",
   "name": "python3"
  },
  "language_info": {
   "codemirror_mode": {
    "name": "ipython",
    "version": 3
   },
   "file_extension": ".py",
   "mimetype": "text/x-python",
   "name": "python",
   "nbconvert_exporter": "python",
   "pygments_lexer": "ipython3",
   "version": "3.6.7"
  }
 },
 "nbformat": 4,
 "nbformat_minor": 2
}
